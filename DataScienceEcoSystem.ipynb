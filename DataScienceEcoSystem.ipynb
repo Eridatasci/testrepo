{
 "cells": [
  {
   "cell_type": "markdown",
   "id": "9620f2db-a163-49f6-8ec1-f46770994be6",
   "metadata": {},
   "source": [
    "# Data Science Tools and Ecosystem"
   ]
  },
  {
   "cell_type": "markdown",
   "id": "ef0b26a5-267c-4a94-a8ec-7c9dde725cb5",
   "metadata": {},
   "source": [
    "In this notebook, Data Science Tools and Ecosystem are summarized."
   ]
  },
  {
   "cell_type": "markdown",
   "id": "4e1a6e9b-10f8-47d4-adfa-4853e3b674d7",
   "metadata": {},
   "source": [
    "Some of the popular languages that Data Science use are:\n",
    "1. R\n",
    "2. Pyhton\n",
    "3. SQL"
   ]
  },
  {
   "cell_type": "markdown",
   "id": "e4277b6c-6fa0-46be-8802-6d7fa5f72e7e",
   "metadata": {},
   "source": [
    "Some of the commonly used libraries used by Data Scientists include:\n",
    "1. Pandas\n",
    "2. NumPy\n",
    "3. Matplotlib\n",
    "4. TensorFlow\n",
    "5. Apache Spark\n",
    "6. ggplot2"
   ]
  },
  {
   "cell_type": "markdown",
   "id": "de89c603-9e1a-46b9-bcea-a488c98fbbe9",
   "metadata": {},
   "source": [
    "|Data Science Tools|\n",
    "-----------\n",
    "|Jupyter|\n",
    "|R Studio|\n",
    "|Spider|"
   ]
  },
  {
   "cell_type": "markdown",
   "id": "3b9ba55b-05e5-4c0f-9585-c0a0c2d1da68",
   "metadata": {},
   "source": [
    "### Below are a few examples of evaluating arithmetic expressions in Python"
   ]
  },
  {
   "cell_type": "code",
   "execution_count": 2,
   "id": "1acc21ac-58a9-4b80-a3bf-30a64b4b57bb",
   "metadata": {},
   "outputs": [
    {
     "data": {
      "text/plain": [
       "17"
      ]
     },
     "execution_count": 2,
     "metadata": {},
     "output_type": "execute_result"
    }
   ],
   "source": [
    "(3*4)+5\n",
    "#This a simple arithmetic expression to mutiply then add integers"
   ]
  },
  {
   "cell_type": "code",
   "execution_count": 3,
   "id": "d6f465a6-09ec-499c-8406-7a8a9374c6d3",
   "metadata": {},
   "outputs": [
    {
     "data": {
      "text/plain": [
       "3.3333333333333335"
      ]
     },
     "execution_count": 3,
     "metadata": {},
     "output_type": "execute_result"
    }
   ],
   "source": [
    "(200/60)\n",
    "#This will convert 200 minutes to hours by diving by 60"
   ]
  },
  {
   "cell_type": "markdown",
   "id": "6ef459c7-b827-43b7-b2af-731e50493340",
   "metadata": {},
   "source": [
    "**Objectives:**\n",
    "- List popular languages in data Science\n",
    "- List popular libraries in data science\n",
    "- List popular data science tools that are open source\n",
    "- Evaluate arithmetic expressions"
   ]
  },
  {
   "cell_type": "markdown",
   "id": "cd07ab43-751c-4ba0-a628-dacc4758f8aa",
   "metadata": {},
   "source": [
    "## Author\n",
    "Erika Alejandra Leon"
   ]
  }
 ],
 "metadata": {
  "kernelspec": {
   "display_name": "Python 3 (ipykernel)",
   "language": "python",
   "name": "python3"
  },
  "language_info": {
   "codemirror_mode": {
    "name": "ipython",
    "version": 3
   },
   "file_extension": ".py",
   "mimetype": "text/x-python",
   "name": "python",
   "nbconvert_exporter": "python",
   "pygments_lexer": "ipython3",
   "version": "3.9.16"
  }
 },
 "nbformat": 4,
 "nbformat_minor": 5
}
